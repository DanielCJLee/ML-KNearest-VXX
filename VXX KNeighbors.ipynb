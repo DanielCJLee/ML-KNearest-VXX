{
 "metadata": {
  "name": "",
  "signature": "sha256:d09de133f64e7ae65517a549e70178c30036f653345648209437ece88349f5cc"
 },
 "nbformat": 3,
 "nbformat_minor": 0,
 "worksheets": [
  {
   "cells": [
    {
     "cell_type": "code",
     "collapsed": false,
     "input": [
      "import pandas as pd\n",
      "import pandas.io.data as web\n",
      "import datetime\n",
      "import numpy as np\n",
      "import math"
     ],
     "language": "python",
     "metadata": {},
     "outputs": [],
     "prompt_number": 41
    },
    {
     "cell_type": "code",
     "collapsed": false,
     "input": [
      "#Download closing data from Yahoo for S&P500 Tickers\n",
      "start = datetime.datetime(2013,1,1)\n",
      "end = datetime.datetime(2016,1,1)\n",
      "#end = datetime.datetime.today()\n",
      "\n",
      "tickers = 'VXX','^VIX','^VXV'\n",
      "data = web.get_data_yahoo('VXX', start, end, interval='d')\n",
      "data2 = web.get_data_yahoo('^VIX', start, end, interval='d')\n",
      "data3 = web.get_data_yahoo('^VXV', start, end, interval='d')\n",
      "data4 = web.get_data_yahoo('^GSPC', start, end, interval='d')\n",
      "\n",
      "stratdata = pd.DataFrame(index = data.index)\n",
      "stratdata['VXX'] = data['Adj Close']\n",
      "stratdata['VIX'] = data2['Adj Close']\n",
      "stratdata['VXV'] = data3['Adj Close']\n",
      "stratdata['SPX'] = data4['Adj Close']\n",
      "\n",
      "stratdata.tail()"
     ],
     "language": "python",
     "metadata": {},
     "outputs": [
      {
       "html": [
        "<div style=\"max-height:1000px;max-width:1500px;overflow:auto;\">\n",
        "<table border=\"1\" class=\"dataframe\">\n",
        "  <thead>\n",
        "    <tr style=\"text-align: right;\">\n",
        "      <th></th>\n",
        "      <th>VXX</th>\n",
        "      <th>VIX</th>\n",
        "      <th>VXV</th>\n",
        "      <th>SPX</th>\n",
        "    </tr>\n",
        "    <tr>\n",
        "      <th>Date</th>\n",
        "      <th></th>\n",
        "      <th></th>\n",
        "      <th></th>\n",
        "      <th></th>\n",
        "    </tr>\n",
        "  </thead>\n",
        "  <tbody>\n",
        "    <tr>\n",
        "      <th>2015-12-24</th>\n",
        "      <td>19.620001</td>\n",
        "      <td>15.740000</td>\n",
        "      <td>19.690001</td>\n",
        "      <td>2060.989990</td>\n",
        "    </tr>\n",
        "    <tr>\n",
        "      <th>2015-12-28</th>\n",
        "      <td>19.389999</td>\n",
        "      <td>16.910000</td>\n",
        "      <td>19.680000</td>\n",
        "      <td>2056.500000</td>\n",
        "    </tr>\n",
        "    <tr>\n",
        "      <th>2015-12-29</th>\n",
        "      <td>19.070000</td>\n",
        "      <td>16.080000</td>\n",
        "      <td>19.100000</td>\n",
        "      <td>2078.360107</td>\n",
        "    </tr>\n",
        "    <tr>\n",
        "      <th>2015-12-30</th>\n",
        "      <td>19.620001</td>\n",
        "      <td>17.290001</td>\n",
        "      <td>19.590000</td>\n",
        "      <td>2063.360107</td>\n",
        "    </tr>\n",
        "    <tr>\n",
        "      <th>2015-12-31</th>\n",
        "      <td>20.100000</td>\n",
        "      <td>18.209999</td>\n",
        "      <td>19.799999</td>\n",
        "      <td>2043.939941</td>\n",
        "    </tr>\n",
        "  </tbody>\n",
        "</table>\n",
        "</div>"
       ],
       "metadata": {},
       "output_type": "pyout",
       "prompt_number": 432,
       "text": [
        "                  VXX        VIX        VXV          SPX\n",
        "Date                                                    \n",
        "2015-12-24  19.620001  15.740000  19.690001  2060.989990\n",
        "2015-12-28  19.389999  16.910000  19.680000  2056.500000\n",
        "2015-12-29  19.070000  16.080000  19.100000  2078.360107\n",
        "2015-12-30  19.620001  17.290001  19.590000  2063.360107\n",
        "2015-12-31  20.100000  18.209999  19.799999  2043.939941"
       ]
      }
     ],
     "prompt_number": 432
    },
    {
     "cell_type": "code",
     "collapsed": false,
     "input": [
      "#Features VRP, TermStr\n",
      "x = pd.DataFrame(index = stratdata.index)\n",
      "x['VRP'] = stratdata['VIX'] - pd.rolling_std(stratdata['SPX'],3)\n",
      "x['TermStr'] = stratdata['VIX'] - stratdata['VXV']\n",
      "x = x.dropna()\n",
      "\n",
      "#Output VXXret\n",
      "y = pd.DataFrame(index = stratdata.index)\n",
      "y['1dayVXXret'] = np.log(stratdata['VXX'] / stratdata['VXX'].shift(1))\n",
      "#y['2dayVXXret'] = np.log(stratdata['VXX'] / stratdata['VXX'].shift(2))\n",
      "\n",
      "#shift returns forward 1 day\n",
      "y['1dayVXXret'] = y['1dayVXXret'].shift(-1)\n",
      "y = y.dropna()\n",
      "y = y.ix[1:]\n",
      "\n",
      "y.head()"
     ],
     "language": "python",
     "metadata": {},
     "outputs": [
      {
       "html": [
        "<div style=\"max-height:1000px;max-width:1500px;overflow:auto;\">\n",
        "<table border=\"1\" class=\"dataframe\">\n",
        "  <thead>\n",
        "    <tr style=\"text-align: right;\">\n",
        "      <th></th>\n",
        "      <th>1dayVXXret</th>\n",
        "    </tr>\n",
        "    <tr>\n",
        "      <th>Date</th>\n",
        "      <th></th>\n",
        "    </tr>\n",
        "  </thead>\n",
        "  <tbody>\n",
        "    <tr>\n",
        "      <th>2013-01-03</th>\n",
        "      <td>-0.020834</td>\n",
        "    </tr>\n",
        "    <tr>\n",
        "      <th>2013-01-04</th>\n",
        "      <td>-0.001089</td>\n",
        "    </tr>\n",
        "    <tr>\n",
        "      <th>2013-01-07</th>\n",
        "      <td>-0.012432</td>\n",
        "    </tr>\n",
        "    <tr>\n",
        "      <th>2013-01-08</th>\n",
        "      <td>0.002205</td>\n",
        "    </tr>\n",
        "    <tr>\n",
        "      <th>2013-01-09</th>\n",
        "      <td>-0.024904</td>\n",
        "    </tr>\n",
        "  </tbody>\n",
        "</table>\n",
        "</div>"
       ],
       "metadata": {},
       "output_type": "pyout",
       "prompt_number": 433,
       "text": [
        "            1dayVXXret\n",
        "Date                  \n",
        "2013-01-03   -0.020834\n",
        "2013-01-04   -0.001089\n",
        "2013-01-07   -0.012432\n",
        "2013-01-08    0.002205\n",
        "2013-01-09   -0.024904"
       ]
      }
     ],
     "prompt_number": 433
    },
    {
     "cell_type": "code",
     "collapsed": false,
     "input": [
      "#Seperate training from testing set\n",
      "#from sklearn.cross_validation import train_test_split\n",
      "#Xlabels = x.index\n",
      "#Ylabels = y.index\n",
      "#trainF, testF = train_test_split(x, test_size = 0.5)\n",
      "#trainT, testT = train_test_split(y, test_size = 0.5)\n",
      "\n",
      "#New method of spltting\n",
      "#msk = np.random.rand(len(x)) < 0.5\n",
      "#trainF = x[msk]\n",
      "#testF = x[~msk]\n",
      "#testT = y[~msk]\n",
      "#trainT = y[msk]\n",
      "\n",
      "#Method2 of splitting\n",
      "trainF = x.ix[0:len(x)/2]\n",
      "testF = x.ix[len(x)/2:]\n",
      "trainT = y.ix[0:len(x)/2]\n",
      "testT = y.ix[len(x)/2:]\n",
      "\n",
      "#Convert Output to Binary\n",
      "trainT = trainT['1dayVXXret'].apply(lambda x: 1 if x > 0 else -1)\n",
      "\n",
      "trainT.head()"
     ],
     "language": "python",
     "metadata": {},
     "outputs": [
      {
       "metadata": {},
       "output_type": "pyout",
       "prompt_number": 434,
       "text": [
        "Date\n",
        "2013-01-03   -1\n",
        "2013-01-04   -1\n",
        "2013-01-07   -1\n",
        "2013-01-08    1\n",
        "2013-01-09   -1\n",
        "Name: 1dayVXXret, dtype: int64"
       ]
      }
     ],
     "prompt_number": 434
    },
    {
     "cell_type": "code",
     "collapsed": false,
     "input": [
      "#Fit Model\n",
      "from sklearn.neighbors import KNeighborsClassifier\n",
      "knn = KNeighborsClassifier()\n",
      "knn.fit(trainF,np.ravel(trainT))\n",
      "z_pred = knn.predict(testF)\n"
     ],
     "language": "python",
     "metadata": {},
     "outputs": [],
     "prompt_number": 435
    },
    {
     "cell_type": "code",
     "collapsed": false,
     "input": [
      "#Backtest\n",
      "\n",
      "#Build DF\n",
      "df = pd.DataFrame({'Model':z_pred, 'VXXret':testT['1dayVXXret']})\n",
      "\n",
      "df['PnL'] = df['Model']*df['VXXret']\n",
      "\n",
      "df['PnL'].cumsum().plot()\n",
      "#df['VXXret'].cumsum().plot()\n",
      "\n",
      "sh = math.sqrt(250)*np.average(df['PnL']) / np.std(df['PnL'])\n",
      "print 'Sharpe Ratio: ', sh\n",
      "print 'Max DD: ', max_dd(df['PnL'])\n",
      "#df['Model'].plot()"
     ],
     "language": "python",
     "metadata": {},
     "outputs": [
      {
       "output_type": "stream",
       "stream": "stdout",
       "text": [
        "Sharpe Ratio:  1.99730507643\n",
        "Max DD:  -0.279051639707\n"
       ]
      },
      {
       "metadata": {},
       "output_type": "display_data",
       "png": "[encoded data removed]",
       "text": [
        "<matplotlib.figure.Figure at 0x21961cc0>"
       ]
      }
     ],
     "prompt_number": 437
    },
    {
     "cell_type": "code",
     "collapsed": false,
     "input": [
      "df['Bench'] = df['VXXret']*-1\n",
      "df['Bench'].cumsum().plot()\n",
      "\n",
      "sh = math.sqrt(250)*np.average(df['Bench']) / np.std(df['Bench'])\n",
      "print 'Sharpe Ratio: ', sh\n",
      "print 'Max DD: ', max_dd(df['Bench'])"
     ],
     "language": "python",
     "metadata": {},
     "outputs": [
      {
       "output_type": "stream",
       "stream": "stdout",
       "text": [
        "Sharpe Ratio:  0.289872728653\n",
        "Max DD:  -0.27057044477\n"
       ]
      },
      {
       "metadata": {},
       "output_type": "display_data",
       "png": "[encoded data removed]",
       "text": [
        "<matplotlib.figure.Figure at 0x21a59be0>"
       ]
      }
     ],
     "prompt_number": 438
    },
    {
     "cell_type": "code",
     "collapsed": false,
     "input": [
      "#Check Accuracy\n",
      "from sklearn import metrics\n",
      "z_pred = np.where(z_pred > 0,1,-1)\n",
      "#print metrics.accuracy_score(testT,z_pred)"
     ],
     "language": "python",
     "metadata": {},
     "outputs": [],
     "prompt_number": 221
    },
    {
     "cell_type": "code",
     "collapsed": false,
     "input": [
      "#Count number of signals\n",
      "import collections\n",
      "#print collections.Counter(testT)\n",
      "print collections.Counter(df['Model'])"
     ],
     "language": "python",
     "metadata": {},
     "outputs": [
      {
       "output_type": "stream",
       "stream": "stdout",
       "text": [
        "Counter({-1: 195, 1: 56})\n"
       ]
      }
     ],
     "prompt_number": 380
    },
    {
     "cell_type": "code",
     "collapsed": false,
     "input": [
      "#Max DD function\n",
      "def max_dd(ser):\n",
      "    max2here=pd.expanding_max(ser)\n",
      "    dd2here = ser - max2here\n",
      "    return dd2here.min()\n"
     ],
     "language": "python",
     "metadata": {},
     "outputs": [
      {
       "output_type": "stream",
       "stream": "stdout",
       "text": [
        "\n"
       ]
      }
     ],
     "prompt_number": 373
    },
    {
     "cell_type": "code",
     "collapsed": false,
     "input": [
      "#Check for look ahead bias\n",
      "checkdf = pd.concat([df,x,y, stratdata['VXX']], axis = 1)\n",
      "checkdf.tail()\n"
     ],
     "language": "python",
     "metadata": {},
     "outputs": [
      {
       "html": [
        "<div style=\"max-height:1000px;max-width:1500px;overflow:auto;\">\n",
        "<table border=\"1\" class=\"dataframe\">\n",
        "  <thead>\n",
        "    <tr style=\"text-align: right;\">\n",
        "      <th></th>\n",
        "      <th>Model</th>\n",
        "      <th>VXXret</th>\n",
        "      <th>PnL</th>\n",
        "      <th>Bench</th>\n",
        "      <th>VRP</th>\n",
        "      <th>TermStr</th>\n",
        "      <th>1dayVXXret</th>\n",
        "      <th>VXX</th>\n",
        "    </tr>\n",
        "    <tr>\n",
        "      <th>Date</th>\n",
        "      <th></th>\n",
        "      <th></th>\n",
        "      <th></th>\n",
        "      <th></th>\n",
        "      <th></th>\n",
        "      <th></th>\n",
        "      <th></th>\n",
        "      <th></th>\n",
        "    </tr>\n",
        "  </thead>\n",
        "  <tbody>\n",
        "    <tr>\n",
        "      <th>2014-12-24</th>\n",
        "      <td>-1</td>\n",
        "      <td>0.009842</td>\n",
        "      <td>-0.009842</td>\n",
        "      <td>-0.009842</td>\n",
        "      <td>12.352794</td>\n",
        "      <td>-2.890000</td>\n",
        "      <td>0.009842</td>\n",
        "      <td>28.309999</td>\n",
        "    </tr>\n",
        "    <tr>\n",
        "      <th>2014-12-26</th>\n",
        "      <td>-1</td>\n",
        "      <td>-0.002802</td>\n",
        "      <td>0.002802</td>\n",
        "      <td>0.002802</td>\n",
        "      <td>10.603005</td>\n",
        "      <td>-2.660000</td>\n",
        "      <td>-0.002802</td>\n",
        "      <td>28.590000</td>\n",
        "    </tr>\n",
        "    <tr>\n",
        "      <th>2014-12-29</th>\n",
        "      <td>-1</td>\n",
        "      <td>0.023914</td>\n",
        "      <td>-0.023914</td>\n",
        "      <td>-0.023914</td>\n",
        "      <td>10.473181</td>\n",
        "      <td>-2.210000</td>\n",
        "      <td>0.023914</td>\n",
        "      <td>28.510000</td>\n",
        "    </tr>\n",
        "    <tr>\n",
        "      <th>2014-12-30</th>\n",
        "      <td>-1</td>\n",
        "      <td>0.076136</td>\n",
        "      <td>-0.076136</td>\n",
        "      <td>-0.076136</td>\n",
        "      <td>10.464375</td>\n",
        "      <td>-2.100000</td>\n",
        "      <td>0.076136</td>\n",
        "      <td>29.200001</td>\n",
        "    </tr>\n",
        "    <tr>\n",
        "      <th>2014-12-31</th>\n",
        "      <td>NaN</td>\n",
        "      <td>NaN</td>\n",
        "      <td>NaN</td>\n",
        "      <td>NaN</td>\n",
        "      <td>3.036472</td>\n",
        "      <td>-0.539999</td>\n",
        "      <td>NaN</td>\n",
        "      <td>31.510000</td>\n",
        "    </tr>\n",
        "  </tbody>\n",
        "</table>\n",
        "</div>"
       ],
       "metadata": {},
       "output_type": "pyout",
       "prompt_number": 403,
       "text": [
        "            Model    VXXret       PnL     Bench        VRP   TermStr  \\\n",
        "Date                                                                   \n",
        "2014-12-24     -1  0.009842 -0.009842 -0.009842  12.352794 -2.890000   \n",
        "2014-12-26     -1 -0.002802  0.002802  0.002802  10.603005 -2.660000   \n",
        "2014-12-29     -1  0.023914 -0.023914 -0.023914  10.473181 -2.210000   \n",
        "2014-12-30     -1  0.076136 -0.076136 -0.076136  10.464375 -2.100000   \n",
        "2014-12-31    NaN       NaN       NaN       NaN   3.036472 -0.539999   \n",
        "\n",
        "            1dayVXXret        VXX  \n",
        "Date                               \n",
        "2014-12-24    0.009842  28.309999  \n",
        "2014-12-26   -0.002802  28.590000  \n",
        "2014-12-29    0.023914  28.510000  \n",
        "2014-12-30    0.076136  29.200001  \n",
        "2014-12-31         NaN  31.510000  "
       ]
      }
     ],
     "prompt_number": 403
    },
    {
     "cell_type": "code",
     "collapsed": false,
     "input": [
      "#Visualize Data\n",
      "plt.scatter(x['VRP'],x['TermStr'],c=y['1dayVXXret'].apply(lambda x: 1 if x > 0 else -1),\n",
      "            linewidth=0.15)\n",
      "plt.gray()\n",
      "plt.colorbar(ticks = [-1,0,1], label = '1 day forward Return')\n",
      "plt.xlabel('Volatility Premium')\n",
      "plt.ylabel('Term Structure')"
     ],
     "language": "python",
     "metadata": {},
     "outputs": [
      {
       "metadata": {},
       "output_type": "pyout",
       "prompt_number": 431,
       "text": [
        "<matplotlib.text.Text at 0x214f12e8>"
       ]
      },
      {
       "metadata": {},
       "output_type": "display_data",
       "png": "[encoded data removed]",
       "text": [
        "<matplotlib.figure.Figure at 0x214cc4e0>"
       ]
      }
     ],
     "prompt_number": 431
    }
   ],
   "metadata": {}
  }
 ]
}